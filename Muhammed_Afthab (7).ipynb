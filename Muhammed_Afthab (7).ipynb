{
  "cells": [
    {
      "cell_type": "code",
      "execution_count": 6,
      "id": "ec6ab7a0",
      "metadata": {
        "id": "ec6ab7a0"
      },
      "outputs": [],
      "source": [
        "# importing libraries necessary for EDA and data preprocessing\n",
        "import pandas as pd\n",
        "import matplotlib.pyplot as plt\n",
        "import seaborn as sns\n",
        "import warnings\n",
        "warnings.filterwarnings('ignore')"
      ]
    },
    {
      "cell_type": "code",
      "execution_count": 8,
      "id": "110a9389",
      "metadata": {
        "id": "110a9389"
      },
      "outputs": [],
      "source": [
        "# loading the credit card dataset\n",
        "df=pd.read_csv('/content/credit.csv')"
      ]
    },
    {
      "cell_type": "code",
      "execution_count": 9,
      "id": "3a00ec7d",
      "metadata": {
        "colab": {
          "base_uri": "https://localhost:8080/",
          "height": 617
        },
        "id": "3a00ec7d",
        "outputId": "dd4464f3-b5c4-40c6-b4f2-fad39ec8027f"
      },
      "outputs": [
        {
          "output_type": "execute_result",
          "data": {
            "text/plain": [
              "          ID  Customer_ID  Month           Name   Age          SSN Occupation  \\\n",
              "0       5634         3392      1  Aaron Maashoh  23.0  821000265.0  Scientist   \n",
              "1       5635         3392      2  Aaron Maashoh  23.0  821000265.0  Scientist   \n",
              "2       5636         3392      3  Aaron Maashoh  23.0  821000265.0  Scientist   \n",
              "3       5637         3392      4  Aaron Maashoh  23.0  821000265.0  Scientist   \n",
              "4       5638         3392      5  Aaron Maashoh  23.0  821000265.0  Scientist   \n",
              "...      ...          ...    ...            ...   ...          ...        ...   \n",
              "23846  41400        28014      7      da Costal  36.0  310728518.0     Lawyer   \n",
              "23847  41401        28014      8      da Costal  36.0  310728518.0     Lawyer   \n",
              "23848  41406         8388      1  Ana Nicolacik  43.0  352923069.0    Manager   \n",
              "23849  41407         8388      2  Ana Nicolacik  43.0  352923069.0    Manager   \n",
              "23850  41408         8388      3  Ana Nicolacik  43.0  352923069.0    Manager   \n",
              "\n",
              "       Annual_Income  Monthly_Inhand_Salary  Num_Bank_Accounts  ...  \\\n",
              "0           19114.12            1824.843333                3.0  ...   \n",
              "1           19114.12            1824.843333                3.0  ...   \n",
              "2           19114.12            1824.843333                3.0  ...   \n",
              "3           19114.12            1824.843333                3.0  ...   \n",
              "4           19114.12            1824.843333                3.0  ...   \n",
              "...              ...                    ...                ...  ...   \n",
              "23846      114977.76            9641.480000                1.0  ...   \n",
              "23847      114977.76            9641.480000                1.0  ...   \n",
              "23848        7435.16             333.596667                8.0  ...   \n",
              "23849        7435.16             333.596667                8.0  ...   \n",
              "23850        7435.16             333.596667                8.0  ...   \n",
              "\n",
              "       Credit_Mix  Outstanding_Debt  Credit_Utilization_Ratio  \\\n",
              "0            Good            809.98                 26.822620   \n",
              "1            Good            809.98                 31.944960   \n",
              "2            Good            809.98                 28.609352   \n",
              "3            Good            809.98                 31.377862   \n",
              "4            Good            809.98                 24.797347   \n",
              "...           ...               ...                       ...   \n",
              "23846        Good           1084.96                 35.376151   \n",
              "23847        Good           1084.96                 39.049094   \n",
              "23848         Bad           3854.27                 34.989416   \n",
              "23849         Bad           3854.27                 32.741083   \n",
              "23850         Bad           3854.27                 36.472843   \n",
              "\n",
              "      Credit_History_Age  Payment_of_Min_Amount  Total_EMI_per_month  \\\n",
              "0                  265.0                     No            49.574949   \n",
              "1                  266.0                     No            49.574949   \n",
              "2                  267.0                     No            49.574949   \n",
              "3                  268.0                     No            49.574949   \n",
              "4                  269.0                     No            49.574949   \n",
              "...                  ...                    ...                  ...   \n",
              "23846              281.0                     No           245.013684   \n",
              "23847              282.0                     No           245.013684   \n",
              "23848               55.0                    Yes            26.854020   \n",
              "23849               56.0                    Yes            26.854020   \n",
              "23850               57.0                    Yes            26.854010   \n",
              "\n",
              "       Amount_invested_monthly                 Payment_Behaviour  \\\n",
              "0                    21.465380   High_spent_Small_value_payments   \n",
              "1                    21.465380    Low_spent_Large_value_payments   \n",
              "2                    21.465380   Low_spent_Medium_value_payments   \n",
              "3                    21.465380    Low_spent_Small_value_payments   \n",
              "4                    21.465380  High_spent_Medium_value_payments   \n",
              "...                        ...                               ...   \n",
              "23846                88.828761    Low_spent_Small_value_payments   \n",
              "23847                88.828761    Low_spent_Small_value_payments   \n",
              "23848                 0.000000   High_spent_Small_value_payments   \n",
              "23849                 0.000000   High_spent_Small_value_payments   \n",
              "23850                      NaN                               NaN   \n",
              "\n",
              "      Monthly_Balance  Credit_Score  \n",
              "0          312.494089          Good  \n",
              "1          284.629162          Good  \n",
              "2          331.209863          Good  \n",
              "3          223.451310          Good  \n",
              "4          341.489231          Good  \n",
              "...               ...           ...  \n",
              "23846      559.112140      Standard  \n",
              "23847      420.817835          Good  \n",
              "23848      255.580902      Standard  \n",
              "23849      258.718901      Standard  \n",
              "23850             NaN           NaN  \n",
              "\n",
              "[23851 rows x 28 columns]"
            ],
            "text/html": [
              "\n",
              "  <div id=\"df-48d321ff-7d6f-4524-9c14-d1121ef27c3e\" class=\"colab-df-container\">\n",
              "    <div>\n",
              "<style scoped>\n",
              "    .dataframe tbody tr th:only-of-type {\n",
              "        vertical-align: middle;\n",
              "    }\n",
              "\n",
              "    .dataframe tbody tr th {\n",
              "        vertical-align: top;\n",
              "    }\n",
              "\n",
              "    .dataframe thead th {\n",
              "        text-align: right;\n",
              "    }\n",
              "</style>\n",
              "<table border=\"1\" class=\"dataframe\">\n",
              "  <thead>\n",
              "    <tr style=\"text-align: right;\">\n",
              "      <th></th>\n",
              "      <th>ID</th>\n",
              "      <th>Customer_ID</th>\n",
              "      <th>Month</th>\n",
              "      <th>Name</th>\n",
              "      <th>Age</th>\n",
              "      <th>SSN</th>\n",
              "      <th>Occupation</th>\n",
              "      <th>Annual_Income</th>\n",
              "      <th>Monthly_Inhand_Salary</th>\n",
              "      <th>Num_Bank_Accounts</th>\n",
              "      <th>...</th>\n",
              "      <th>Credit_Mix</th>\n",
              "      <th>Outstanding_Debt</th>\n",
              "      <th>Credit_Utilization_Ratio</th>\n",
              "      <th>Credit_History_Age</th>\n",
              "      <th>Payment_of_Min_Amount</th>\n",
              "      <th>Total_EMI_per_month</th>\n",
              "      <th>Amount_invested_monthly</th>\n",
              "      <th>Payment_Behaviour</th>\n",
              "      <th>Monthly_Balance</th>\n",
              "      <th>Credit_Score</th>\n",
              "    </tr>\n",
              "  </thead>\n",
              "  <tbody>\n",
              "    <tr>\n",
              "      <th>0</th>\n",
              "      <td>5634</td>\n",
              "      <td>3392</td>\n",
              "      <td>1</td>\n",
              "      <td>Aaron Maashoh</td>\n",
              "      <td>23.0</td>\n",
              "      <td>821000265.0</td>\n",
              "      <td>Scientist</td>\n",
              "      <td>19114.12</td>\n",
              "      <td>1824.843333</td>\n",
              "      <td>3.0</td>\n",
              "      <td>...</td>\n",
              "      <td>Good</td>\n",
              "      <td>809.98</td>\n",
              "      <td>26.822620</td>\n",
              "      <td>265.0</td>\n",
              "      <td>No</td>\n",
              "      <td>49.574949</td>\n",
              "      <td>21.465380</td>\n",
              "      <td>High_spent_Small_value_payments</td>\n",
              "      <td>312.494089</td>\n",
              "      <td>Good</td>\n",
              "    </tr>\n",
              "    <tr>\n",
              "      <th>1</th>\n",
              "      <td>5635</td>\n",
              "      <td>3392</td>\n",
              "      <td>2</td>\n",
              "      <td>Aaron Maashoh</td>\n",
              "      <td>23.0</td>\n",
              "      <td>821000265.0</td>\n",
              "      <td>Scientist</td>\n",
              "      <td>19114.12</td>\n",
              "      <td>1824.843333</td>\n",
              "      <td>3.0</td>\n",
              "      <td>...</td>\n",
              "      <td>Good</td>\n",
              "      <td>809.98</td>\n",
              "      <td>31.944960</td>\n",
              "      <td>266.0</td>\n",
              "      <td>No</td>\n",
              "      <td>49.574949</td>\n",
              "      <td>21.465380</td>\n",
              "      <td>Low_spent_Large_value_payments</td>\n",
              "      <td>284.629162</td>\n",
              "      <td>Good</td>\n",
              "    </tr>\n",
              "    <tr>\n",
              "      <th>2</th>\n",
              "      <td>5636</td>\n",
              "      <td>3392</td>\n",
              "      <td>3</td>\n",
              "      <td>Aaron Maashoh</td>\n",
              "      <td>23.0</td>\n",
              "      <td>821000265.0</td>\n",
              "      <td>Scientist</td>\n",
              "      <td>19114.12</td>\n",
              "      <td>1824.843333</td>\n",
              "      <td>3.0</td>\n",
              "      <td>...</td>\n",
              "      <td>Good</td>\n",
              "      <td>809.98</td>\n",
              "      <td>28.609352</td>\n",
              "      <td>267.0</td>\n",
              "      <td>No</td>\n",
              "      <td>49.574949</td>\n",
              "      <td>21.465380</td>\n",
              "      <td>Low_spent_Medium_value_payments</td>\n",
              "      <td>331.209863</td>\n",
              "      <td>Good</td>\n",
              "    </tr>\n",
              "    <tr>\n",
              "      <th>3</th>\n",
              "      <td>5637</td>\n",
              "      <td>3392</td>\n",
              "      <td>4</td>\n",
              "      <td>Aaron Maashoh</td>\n",
              "      <td>23.0</td>\n",
              "      <td>821000265.0</td>\n",
              "      <td>Scientist</td>\n",
              "      <td>19114.12</td>\n",
              "      <td>1824.843333</td>\n",
              "      <td>3.0</td>\n",
              "      <td>...</td>\n",
              "      <td>Good</td>\n",
              "      <td>809.98</td>\n",
              "      <td>31.377862</td>\n",
              "      <td>268.0</td>\n",
              "      <td>No</td>\n",
              "      <td>49.574949</td>\n",
              "      <td>21.465380</td>\n",
              "      <td>Low_spent_Small_value_payments</td>\n",
              "      <td>223.451310</td>\n",
              "      <td>Good</td>\n",
              "    </tr>\n",
              "    <tr>\n",
              "      <th>4</th>\n",
              "      <td>5638</td>\n",
              "      <td>3392</td>\n",
              "      <td>5</td>\n",
              "      <td>Aaron Maashoh</td>\n",
              "      <td>23.0</td>\n",
              "      <td>821000265.0</td>\n",
              "      <td>Scientist</td>\n",
              "      <td>19114.12</td>\n",
              "      <td>1824.843333</td>\n",
              "      <td>3.0</td>\n",
              "      <td>...</td>\n",
              "      <td>Good</td>\n",
              "      <td>809.98</td>\n",
              "      <td>24.797347</td>\n",
              "      <td>269.0</td>\n",
              "      <td>No</td>\n",
              "      <td>49.574949</td>\n",
              "      <td>21.465380</td>\n",
              "      <td>High_spent_Medium_value_payments</td>\n",
              "      <td>341.489231</td>\n",
              "      <td>Good</td>\n",
              "    </tr>\n",
              "    <tr>\n",
              "      <th>...</th>\n",
              "      <td>...</td>\n",
              "      <td>...</td>\n",
              "      <td>...</td>\n",
              "      <td>...</td>\n",
              "      <td>...</td>\n",
              "      <td>...</td>\n",
              "      <td>...</td>\n",
              "      <td>...</td>\n",
              "      <td>...</td>\n",
              "      <td>...</td>\n",
              "      <td>...</td>\n",
              "      <td>...</td>\n",
              "      <td>...</td>\n",
              "      <td>...</td>\n",
              "      <td>...</td>\n",
              "      <td>...</td>\n",
              "      <td>...</td>\n",
              "      <td>...</td>\n",
              "      <td>...</td>\n",
              "      <td>...</td>\n",
              "      <td>...</td>\n",
              "    </tr>\n",
              "    <tr>\n",
              "      <th>23846</th>\n",
              "      <td>41400</td>\n",
              "      <td>28014</td>\n",
              "      <td>7</td>\n",
              "      <td>da Costal</td>\n",
              "      <td>36.0</td>\n",
              "      <td>310728518.0</td>\n",
              "      <td>Lawyer</td>\n",
              "      <td>114977.76</td>\n",
              "      <td>9641.480000</td>\n",
              "      <td>1.0</td>\n",
              "      <td>...</td>\n",
              "      <td>Good</td>\n",
              "      <td>1084.96</td>\n",
              "      <td>35.376151</td>\n",
              "      <td>281.0</td>\n",
              "      <td>No</td>\n",
              "      <td>245.013684</td>\n",
              "      <td>88.828761</td>\n",
              "      <td>Low_spent_Small_value_payments</td>\n",
              "      <td>559.112140</td>\n",
              "      <td>Standard</td>\n",
              "    </tr>\n",
              "    <tr>\n",
              "      <th>23847</th>\n",
              "      <td>41401</td>\n",
              "      <td>28014</td>\n",
              "      <td>8</td>\n",
              "      <td>da Costal</td>\n",
              "      <td>36.0</td>\n",
              "      <td>310728518.0</td>\n",
              "      <td>Lawyer</td>\n",
              "      <td>114977.76</td>\n",
              "      <td>9641.480000</td>\n",
              "      <td>1.0</td>\n",
              "      <td>...</td>\n",
              "      <td>Good</td>\n",
              "      <td>1084.96</td>\n",
              "      <td>39.049094</td>\n",
              "      <td>282.0</td>\n",
              "      <td>No</td>\n",
              "      <td>245.013684</td>\n",
              "      <td>88.828761</td>\n",
              "      <td>Low_spent_Small_value_payments</td>\n",
              "      <td>420.817835</td>\n",
              "      <td>Good</td>\n",
              "    </tr>\n",
              "    <tr>\n",
              "      <th>23848</th>\n",
              "      <td>41406</td>\n",
              "      <td>8388</td>\n",
              "      <td>1</td>\n",
              "      <td>Ana Nicolacik</td>\n",
              "      <td>43.0</td>\n",
              "      <td>352923069.0</td>\n",
              "      <td>Manager</td>\n",
              "      <td>7435.16</td>\n",
              "      <td>333.596667</td>\n",
              "      <td>8.0</td>\n",
              "      <td>...</td>\n",
              "      <td>Bad</td>\n",
              "      <td>3854.27</td>\n",
              "      <td>34.989416</td>\n",
              "      <td>55.0</td>\n",
              "      <td>Yes</td>\n",
              "      <td>26.854020</td>\n",
              "      <td>0.000000</td>\n",
              "      <td>High_spent_Small_value_payments</td>\n",
              "      <td>255.580902</td>\n",
              "      <td>Standard</td>\n",
              "    </tr>\n",
              "    <tr>\n",
              "      <th>23849</th>\n",
              "      <td>41407</td>\n",
              "      <td>8388</td>\n",
              "      <td>2</td>\n",
              "      <td>Ana Nicolacik</td>\n",
              "      <td>43.0</td>\n",
              "      <td>352923069.0</td>\n",
              "      <td>Manager</td>\n",
              "      <td>7435.16</td>\n",
              "      <td>333.596667</td>\n",
              "      <td>8.0</td>\n",
              "      <td>...</td>\n",
              "      <td>Bad</td>\n",
              "      <td>3854.27</td>\n",
              "      <td>32.741083</td>\n",
              "      <td>56.0</td>\n",
              "      <td>Yes</td>\n",
              "      <td>26.854020</td>\n",
              "      <td>0.000000</td>\n",
              "      <td>High_spent_Small_value_payments</td>\n",
              "      <td>258.718901</td>\n",
              "      <td>Standard</td>\n",
              "    </tr>\n",
              "    <tr>\n",
              "      <th>23850</th>\n",
              "      <td>41408</td>\n",
              "      <td>8388</td>\n",
              "      <td>3</td>\n",
              "      <td>Ana Nicolacik</td>\n",
              "      <td>43.0</td>\n",
              "      <td>352923069.0</td>\n",
              "      <td>Manager</td>\n",
              "      <td>7435.16</td>\n",
              "      <td>333.596667</td>\n",
              "      <td>8.0</td>\n",
              "      <td>...</td>\n",
              "      <td>Bad</td>\n",
              "      <td>3854.27</td>\n",
              "      <td>36.472843</td>\n",
              "      <td>57.0</td>\n",
              "      <td>Yes</td>\n",
              "      <td>26.854010</td>\n",
              "      <td>NaN</td>\n",
              "      <td>NaN</td>\n",
              "      <td>NaN</td>\n",
              "      <td>NaN</td>\n",
              "    </tr>\n",
              "  </tbody>\n",
              "</table>\n",
              "<p>23851 rows × 28 columns</p>\n",
              "</div>\n",
              "    <div class=\"colab-df-buttons\">\n",
              "\n",
              "  <div class=\"colab-df-container\">\n",
              "    <button class=\"colab-df-convert\" onclick=\"convertToInteractive('df-48d321ff-7d6f-4524-9c14-d1121ef27c3e')\"\n",
              "            title=\"Convert this dataframe to an interactive table.\"\n",
              "            style=\"display:none;\">\n",
              "\n",
              "  <svg xmlns=\"http://www.w3.org/2000/svg\" height=\"24px\" viewBox=\"0 -960 960 960\">\n",
              "    <path d=\"M120-120v-720h720v720H120Zm60-500h600v-160H180v160Zm220 220h160v-160H400v160Zm0 220h160v-160H400v160ZM180-400h160v-160H180v160Zm440 0h160v-160H620v160ZM180-180h160v-160H180v160Zm440 0h160v-160H620v160Z\"/>\n",
              "  </svg>\n",
              "    </button>\n",
              "\n",
              "  <style>\n",
              "    .colab-df-container {\n",
              "      display:flex;\n",
              "      gap: 12px;\n",
              "    }\n",
              "\n",
              "    .colab-df-convert {\n",
              "      background-color: #E8F0FE;\n",
              "      border: none;\n",
              "      border-radius: 50%;\n",
              "      cursor: pointer;\n",
              "      display: none;\n",
              "      fill: #1967D2;\n",
              "      height: 32px;\n",
              "      padding: 0 0 0 0;\n",
              "      width: 32px;\n",
              "    }\n",
              "\n",
              "    .colab-df-convert:hover {\n",
              "      background-color: #E2EBFA;\n",
              "      box-shadow: 0px 1px 2px rgba(60, 64, 67, 0.3), 0px 1px 3px 1px rgba(60, 64, 67, 0.15);\n",
              "      fill: #174EA6;\n",
              "    }\n",
              "\n",
              "    .colab-df-buttons div {\n",
              "      margin-bottom: 4px;\n",
              "    }\n",
              "\n",
              "    [theme=dark] .colab-df-convert {\n",
              "      background-color: #3B4455;\n",
              "      fill: #D2E3FC;\n",
              "    }\n",
              "\n",
              "    [theme=dark] .colab-df-convert:hover {\n",
              "      background-color: #434B5C;\n",
              "      box-shadow: 0px 1px 3px 1px rgba(0, 0, 0, 0.15);\n",
              "      filter: drop-shadow(0px 1px 2px rgba(0, 0, 0, 0.3));\n",
              "      fill: #FFFFFF;\n",
              "    }\n",
              "  </style>\n",
              "\n",
              "    <script>\n",
              "      const buttonEl =\n",
              "        document.querySelector('#df-48d321ff-7d6f-4524-9c14-d1121ef27c3e button.colab-df-convert');\n",
              "      buttonEl.style.display =\n",
              "        google.colab.kernel.accessAllowed ? 'block' : 'none';\n",
              "\n",
              "      async function convertToInteractive(key) {\n",
              "        const element = document.querySelector('#df-48d321ff-7d6f-4524-9c14-d1121ef27c3e');\n",
              "        const dataTable =\n",
              "          await google.colab.kernel.invokeFunction('convertToInteractive',\n",
              "                                                    [key], {});\n",
              "        if (!dataTable) return;\n",
              "\n",
              "        const docLinkHtml = 'Like what you see? Visit the ' +\n",
              "          '<a target=\"_blank\" href=https://colab.research.google.com/notebooks/data_table.ipynb>data table notebook</a>'\n",
              "          + ' to learn more about interactive tables.';\n",
              "        element.innerHTML = '';\n",
              "        dataTable['output_type'] = 'display_data';\n",
              "        await google.colab.output.renderOutput(dataTable, element);\n",
              "        const docLink = document.createElement('div');\n",
              "        docLink.innerHTML = docLinkHtml;\n",
              "        element.appendChild(docLink);\n",
              "      }\n",
              "    </script>\n",
              "  </div>\n",
              "\n",
              "\n",
              "<div id=\"df-83ac000c-e2eb-4da2-b1ab-d46962c00dbb\">\n",
              "  <button class=\"colab-df-quickchart\" onclick=\"quickchart('df-83ac000c-e2eb-4da2-b1ab-d46962c00dbb')\"\n",
              "            title=\"Suggest charts\"\n",
              "            style=\"display:none;\">\n",
              "\n",
              "<svg xmlns=\"http://www.w3.org/2000/svg\" height=\"24px\"viewBox=\"0 0 24 24\"\n",
              "     width=\"24px\">\n",
              "    <g>\n",
              "        <path d=\"M19 3H5c-1.1 0-2 .9-2 2v14c0 1.1.9 2 2 2h14c1.1 0 2-.9 2-2V5c0-1.1-.9-2-2-2zM9 17H7v-7h2v7zm4 0h-2V7h2v10zm4 0h-2v-4h2v4z\"/>\n",
              "    </g>\n",
              "</svg>\n",
              "  </button>\n",
              "\n",
              "<style>\n",
              "  .colab-df-quickchart {\n",
              "      --bg-color: #E8F0FE;\n",
              "      --fill-color: #1967D2;\n",
              "      --hover-bg-color: #E2EBFA;\n",
              "      --hover-fill-color: #174EA6;\n",
              "      --disabled-fill-color: #AAA;\n",
              "      --disabled-bg-color: #DDD;\n",
              "  }\n",
              "\n",
              "  [theme=dark] .colab-df-quickchart {\n",
              "      --bg-color: #3B4455;\n",
              "      --fill-color: #D2E3FC;\n",
              "      --hover-bg-color: #434B5C;\n",
              "      --hover-fill-color: #FFFFFF;\n",
              "      --disabled-bg-color: #3B4455;\n",
              "      --disabled-fill-color: #666;\n",
              "  }\n",
              "\n",
              "  .colab-df-quickchart {\n",
              "    background-color: var(--bg-color);\n",
              "    border: none;\n",
              "    border-radius: 50%;\n",
              "    cursor: pointer;\n",
              "    display: none;\n",
              "    fill: var(--fill-color);\n",
              "    height: 32px;\n",
              "    padding: 0;\n",
              "    width: 32px;\n",
              "  }\n",
              "\n",
              "  .colab-df-quickchart:hover {\n",
              "    background-color: var(--hover-bg-color);\n",
              "    box-shadow: 0 1px 2px rgba(60, 64, 67, 0.3), 0 1px 3px 1px rgba(60, 64, 67, 0.15);\n",
              "    fill: var(--button-hover-fill-color);\n",
              "  }\n",
              "\n",
              "  .colab-df-quickchart-complete:disabled,\n",
              "  .colab-df-quickchart-complete:disabled:hover {\n",
              "    background-color: var(--disabled-bg-color);\n",
              "    fill: var(--disabled-fill-color);\n",
              "    box-shadow: none;\n",
              "  }\n",
              "\n",
              "  .colab-df-spinner {\n",
              "    border: 2px solid var(--fill-color);\n",
              "    border-color: transparent;\n",
              "    border-bottom-color: var(--fill-color);\n",
              "    animation:\n",
              "      spin 1s steps(1) infinite;\n",
              "  }\n",
              "\n",
              "  @keyframes spin {\n",
              "    0% {\n",
              "      border-color: transparent;\n",
              "      border-bottom-color: var(--fill-color);\n",
              "      border-left-color: var(--fill-color);\n",
              "    }\n",
              "    20% {\n",
              "      border-color: transparent;\n",
              "      border-left-color: var(--fill-color);\n",
              "      border-top-color: var(--fill-color);\n",
              "    }\n",
              "    30% {\n",
              "      border-color: transparent;\n",
              "      border-left-color: var(--fill-color);\n",
              "      border-top-color: var(--fill-color);\n",
              "      border-right-color: var(--fill-color);\n",
              "    }\n",
              "    40% {\n",
              "      border-color: transparent;\n",
              "      border-right-color: var(--fill-color);\n",
              "      border-top-color: var(--fill-color);\n",
              "    }\n",
              "    60% {\n",
              "      border-color: transparent;\n",
              "      border-right-color: var(--fill-color);\n",
              "    }\n",
              "    80% {\n",
              "      border-color: transparent;\n",
              "      border-right-color: var(--fill-color);\n",
              "      border-bottom-color: var(--fill-color);\n",
              "    }\n",
              "    90% {\n",
              "      border-color: transparent;\n",
              "      border-bottom-color: var(--fill-color);\n",
              "    }\n",
              "  }\n",
              "</style>\n",
              "\n",
              "  <script>\n",
              "    async function quickchart(key) {\n",
              "      const quickchartButtonEl =\n",
              "        document.querySelector('#' + key + ' button');\n",
              "      quickchartButtonEl.disabled = true;  // To prevent multiple clicks.\n",
              "      quickchartButtonEl.classList.add('colab-df-spinner');\n",
              "      try {\n",
              "        const charts = await google.colab.kernel.invokeFunction(\n",
              "            'suggestCharts', [key], {});\n",
              "      } catch (error) {\n",
              "        console.error('Error during call to suggestCharts:', error);\n",
              "      }\n",
              "      quickchartButtonEl.classList.remove('colab-df-spinner');\n",
              "      quickchartButtonEl.classList.add('colab-df-quickchart-complete');\n",
              "    }\n",
              "    (() => {\n",
              "      let quickchartButtonEl =\n",
              "        document.querySelector('#df-83ac000c-e2eb-4da2-b1ab-d46962c00dbb button');\n",
              "      quickchartButtonEl.style.display =\n",
              "        google.colab.kernel.accessAllowed ? 'block' : 'none';\n",
              "    })();\n",
              "  </script>\n",
              "</div>\n",
              "\n",
              "  <div id=\"id_59dcba60-8170-4949-873e-eb7caec233d9\">\n",
              "    <style>\n",
              "      .colab-df-generate {\n",
              "        background-color: #E8F0FE;\n",
              "        border: none;\n",
              "        border-radius: 50%;\n",
              "        cursor: pointer;\n",
              "        display: none;\n",
              "        fill: #1967D2;\n",
              "        height: 32px;\n",
              "        padding: 0 0 0 0;\n",
              "        width: 32px;\n",
              "      }\n",
              "\n",
              "      .colab-df-generate:hover {\n",
              "        background-color: #E2EBFA;\n",
              "        box-shadow: 0px 1px 2px rgba(60, 64, 67, 0.3), 0px 1px 3px 1px rgba(60, 64, 67, 0.15);\n",
              "        fill: #174EA6;\n",
              "      }\n",
              "\n",
              "      [theme=dark] .colab-df-generate {\n",
              "        background-color: #3B4455;\n",
              "        fill: #D2E3FC;\n",
              "      }\n",
              "\n",
              "      [theme=dark] .colab-df-generate:hover {\n",
              "        background-color: #434B5C;\n",
              "        box-shadow: 0px 1px 3px 1px rgba(0, 0, 0, 0.15);\n",
              "        filter: drop-shadow(0px 1px 2px rgba(0, 0, 0, 0.3));\n",
              "        fill: #FFFFFF;\n",
              "      }\n",
              "    </style>\n",
              "    <button class=\"colab-df-generate\" onclick=\"generateWithVariable('df')\"\n",
              "            title=\"Generate code using this dataframe.\"\n",
              "            style=\"display:none;\">\n",
              "\n",
              "  <svg xmlns=\"http://www.w3.org/2000/svg\" height=\"24px\"viewBox=\"0 0 24 24\"\n",
              "       width=\"24px\">\n",
              "    <path d=\"M7,19H8.4L18.45,9,17,7.55,7,17.6ZM5,21V16.75L18.45,3.32a2,2,0,0,1,2.83,0l1.4,1.43a1.91,1.91,0,0,1,.58,1.4,1.91,1.91,0,0,1-.58,1.4L9.25,21ZM18.45,9,17,7.55Zm-12,3A5.31,5.31,0,0,0,4.9,8.1,5.31,5.31,0,0,0,1,6.5,5.31,5.31,0,0,0,4.9,4.9,5.31,5.31,0,0,0,6.5,1,5.31,5.31,0,0,0,8.1,4.9,5.31,5.31,0,0,0,12,6.5,5.46,5.46,0,0,0,6.5,12Z\"/>\n",
              "  </svg>\n",
              "    </button>\n",
              "    <script>\n",
              "      (() => {\n",
              "      const buttonEl =\n",
              "        document.querySelector('#id_59dcba60-8170-4949-873e-eb7caec233d9 button.colab-df-generate');\n",
              "      buttonEl.style.display =\n",
              "        google.colab.kernel.accessAllowed ? 'block' : 'none';\n",
              "\n",
              "      buttonEl.onclick = () => {\n",
              "        google.colab.notebook.generateWithVariable('df');\n",
              "      }\n",
              "      })();\n",
              "    </script>\n",
              "  </div>\n",
              "\n",
              "    </div>\n",
              "  </div>\n"
            ],
            "application/vnd.google.colaboratory.intrinsic+json": {
              "type": "dataframe",
              "variable_name": "df"
            }
          },
          "metadata": {},
          "execution_count": 9
        }
      ],
      "source": [
        "df"
      ]
    },
    {
      "cell_type": "code",
      "execution_count": 11,
      "id": "18f0c28a",
      "metadata": {
        "colab": {
          "base_uri": "https://localhost:8080/"
        },
        "id": "18f0c28a",
        "outputId": "86fb3784-48f0-40e3-ca4e-d59de22b9b89"
      },
      "outputs": [
        {
          "output_type": "stream",
          "name": "stdout",
          "text": [
            "<class 'pandas.core.frame.DataFrame'>\n",
            "RangeIndex: 23851 entries, 0 to 23850\n",
            "Data columns (total 28 columns):\n",
            " #   Column                    Non-Null Count  Dtype  \n",
            "---  ------                    --------------  -----  \n",
            " 0   ID                        23851 non-null  int64  \n",
            " 1   Customer_ID               23851 non-null  int64  \n",
            " 2   Month                     23851 non-null  int64  \n",
            " 3   Name                      23851 non-null  object \n",
            " 4   Age                       23851 non-null  float64\n",
            " 5   SSN                       23851 non-null  float64\n",
            " 6   Occupation                23851 non-null  object \n",
            " 7   Annual_Income             23851 non-null  float64\n",
            " 8   Monthly_Inhand_Salary     23851 non-null  float64\n",
            " 9   Num_Bank_Accounts         23851 non-null  float64\n",
            " 10  Num_Credit_Card           23851 non-null  float64\n",
            " 11  Interest_Rate             23851 non-null  float64\n",
            " 12  Num_of_Loan               23851 non-null  float64\n",
            " 13  Type_of_Loan              23851 non-null  object \n",
            " 14  Delay_from_due_date       23851 non-null  float64\n",
            " 15  Num_of_Delayed_Payment    23851 non-null  float64\n",
            " 16  Changed_Credit_Limit      23851 non-null  float64\n",
            " 17  Num_Credit_Inquiries      23851 non-null  float64\n",
            " 18  Credit_Mix                23851 non-null  object \n",
            " 19  Outstanding_Debt          23851 non-null  float64\n",
            " 20  Credit_Utilization_Ratio  23851 non-null  float64\n",
            " 21  Credit_History_Age        23851 non-null  float64\n",
            " 22  Payment_of_Min_Amount     23851 non-null  object \n",
            " 23  Total_EMI_per_month       23851 non-null  float64\n",
            " 24  Amount_invested_monthly   23850 non-null  float64\n",
            " 25  Payment_Behaviour         23850 non-null  object \n",
            " 26  Monthly_Balance           23850 non-null  float64\n",
            " 27  Credit_Score              23850 non-null  object \n",
            "dtypes: float64(18), int64(3), object(7)\n",
            "memory usage: 5.1+ MB\n"
          ]
        }
      ],
      "source": [
        "# gives an idea about our dataset\n",
        "df.info()"
      ]
    },
    {
      "cell_type": "code",
      "execution_count": 13,
      "id": "62b6f1e9",
      "metadata": {
        "colab": {
          "base_uri": "https://localhost:8080/"
        },
        "id": "62b6f1e9",
        "outputId": "35e601c9-7cae-43b1-d4ed-b7bb2c0327ba"
      },
      "outputs": [
        {
          "output_type": "execute_result",
          "data": {
            "text/plain": [
              "2982"
            ]
          },
          "metadata": {},
          "execution_count": 13
        }
      ],
      "source": [
        "# gives the count of unique values in the variables\n",
        "df['Customer_ID'].nunique()"
      ]
    },
    {
      "cell_type": "code",
      "execution_count": 14,
      "id": "90a607b5",
      "metadata": {
        "colab": {
          "base_uri": "https://localhost:8080/"
        },
        "id": "90a607b5",
        "outputId": "f1c63402-267a-4d3d-dc24-980ffba03d8c"
      },
      "outputs": [
        {
          "output_type": "execute_result",
          "data": {
            "text/plain": [
              "(23851, 28)"
            ]
          },
          "metadata": {},
          "execution_count": 14
        }
      ],
      "source": [
        "# displays the size of the dataset\n",
        "df.shape"
      ]
    },
    {
      "cell_type": "code",
      "execution_count": 15,
      "id": "93bed888",
      "metadata": {
        "colab": {
          "base_uri": "https://localhost:8080/"
        },
        "id": "93bed888",
        "outputId": "228f2293-afa4-4209-8e69-06b7e3a36c75"
      },
      "outputs": [
        {
          "output_type": "stream",
          "name": "stdout",
          "text": [
            "\n",
            " Columns with missing values percentage \n",
            " ID                          0.000000\n",
            "Customer_ID                 0.000000\n",
            "Month                       0.000000\n",
            "Name                        0.000000\n",
            "Age                         0.000000\n",
            "SSN                         0.000000\n",
            "Occupation                  0.000000\n",
            "Annual_Income               0.000000\n",
            "Monthly_Inhand_Salary       0.000000\n",
            "Num_Bank_Accounts           0.000000\n",
            "Num_Credit_Card             0.000000\n",
            "Interest_Rate               0.000000\n",
            "Num_of_Loan                 0.000000\n",
            "Type_of_Loan                0.000000\n",
            "Delay_from_due_date         0.000000\n",
            "Num_of_Delayed_Payment      0.000000\n",
            "Changed_Credit_Limit        0.000000\n",
            "Num_Credit_Inquiries        0.000000\n",
            "Credit_Mix                  0.000000\n",
            "Outstanding_Debt            0.000000\n",
            "Credit_Utilization_Ratio    0.000000\n",
            "Credit_History_Age          0.000000\n",
            "Payment_of_Min_Amount       0.000000\n",
            "Total_EMI_per_month         0.000000\n",
            "Amount_invested_monthly     0.000042\n",
            "Payment_Behaviour           0.000042\n",
            "Monthly_Balance             0.000042\n",
            "Credit_Score                0.000042\n",
            "dtype: float64\n"
          ]
        }
      ],
      "source": [
        "print(\"\\n Columns with missing values percentage \\n\",df.isna().sum()/len(df))\n"
      ]
    },
    {
      "cell_type": "code",
      "execution_count": 16,
      "id": "228009f2",
      "metadata": {
        "id": "228009f2"
      },
      "outputs": [],
      "source": [
        "df = df.drop_duplicates()"
      ]
    },
    {
      "cell_type": "code",
      "execution_count": 17,
      "id": "5acf7937",
      "metadata": {
        "colab": {
          "base_uri": "https://localhost:8080/",
          "height": 349
        },
        "id": "5acf7937",
        "outputId": "cb36b226-41ad-4eed-fee4-7c2997a76c79"
      },
      "outputs": [
        {
          "output_type": "execute_result",
          "data": {
            "text/plain": [
              "                 ID   Customer_ID         Month           Age           SSN  \\\n",
              "count  23851.000000  23851.000000  23851.000000  23851.000000  2.385100e+04   \n",
              "mean   23519.750157  26060.729529      4.499686     33.298059  4.967118e+08   \n",
              "std    10328.002412  14373.253371      2.291382     10.699321  2.930820e+08   \n",
              "min     5634.000000   1006.000000      1.000000     14.000000  6.304420e+05   \n",
              "25%    14576.500000  14085.000000      2.000000     25.000000  2.390797e+08   \n",
              "50%    23519.000000  25679.000000      4.000000     33.000000  4.897835e+08   \n",
              "75%    32463.500000  38787.000000      6.000000     42.000000  7.516565e+08   \n",
              "max    41408.000000  50984.000000      8.000000     56.000000  9.999573e+08   \n",
              "\n",
              "       Annual_Income  Monthly_Inhand_Salary  Num_Bank_Accounts  \\\n",
              "count   23851.000000           23851.000000       23851.000000   \n",
              "mean    51015.543633            4238.570014           5.382458   \n",
              "std     38486.372931            3191.046511           2.621802   \n",
              "min      7006.520000             333.596667           0.000000   \n",
              "25%     19569.915000            1653.192500           3.000000   \n",
              "50%     37788.300000            3143.796667           6.000000   \n",
              "75%     72849.560000            6027.507500           7.000000   \n",
              "max    179987.280000           14866.446667          10.000000   \n",
              "\n",
              "       Num_Credit_Card  Interest_Rate  ...  Delay_from_due_date  \\\n",
              "count     23851.000000   23851.000000  ...         23851.000000   \n",
              "mean          5.545386      14.448744  ...            21.269171   \n",
              "std           2.055515       8.795025  ...            14.706929   \n",
              "min           0.000000       1.000000  ...             0.000000   \n",
              "25%           4.000000       7.000000  ...            10.000000   \n",
              "50%           6.000000      13.000000  ...            18.000000   \n",
              "75%           7.000000      20.000000  ...            28.000000   \n",
              "max          11.000000      34.000000  ...            62.000000   \n",
              "\n",
              "       Num_of_Delayed_Payment  Changed_Credit_Limit  Num_Credit_Inquiries  \\\n",
              "count            23851.000000          23851.000000          23851.000000   \n",
              "mean                13.338015             10.408458              5.822691   \n",
              "std                  6.243712              6.598037              3.921917   \n",
              "min                  0.000000              0.500000              0.000000   \n",
              "25%                  9.000000              5.365000              3.000000   \n",
              "50%                 14.000000              9.280000              5.000000   \n",
              "75%                 18.000000             14.715000              9.000000   \n",
              "max                 25.000000             29.970000             17.000000   \n",
              "\n",
              "       Outstanding_Debt  Credit_Utilization_Ratio  Credit_History_Age  \\\n",
              "count      23851.000000              23851.000000        23851.000000   \n",
              "mean        1417.498601                 32.284295          221.149470   \n",
              "std         1167.191825                  5.138086           98.637276   \n",
              "min            1.480000                 20.000000            1.000000   \n",
              "25%          551.180000                 28.011157          147.000000   \n",
              "50%         1147.590000                 32.307111          218.000000   \n",
              "75%         1925.480000                 36.527886          302.000000   \n",
              "max         4998.070000                 50.000000          404.000000   \n",
              "\n",
              "       Total_EMI_per_month  Amount_invested_monthly  Monthly_Balance  \n",
              "count         23851.000000             23850.000000     23850.000000  \n",
              "mean            109.843821                55.618205       391.757555  \n",
              "std             135.354176                39.211721       200.326358  \n",
              "min               0.000000                 0.000000         0.103402  \n",
              "25%              29.837981                27.898042       267.854488  \n",
              "50%              66.676413                46.038344       334.121470  \n",
              "75%             151.978850                72.105948       462.463464  \n",
              "max            1705.000000               434.191089      1183.930696  \n",
              "\n",
              "[8 rows x 21 columns]"
            ],
            "text/html": [
              "\n",
              "  <div id=\"df-2406c4eb-87bd-450d-bfb5-e90133ca5607\" class=\"colab-df-container\">\n",
              "    <div>\n",
              "<style scoped>\n",
              "    .dataframe tbody tr th:only-of-type {\n",
              "        vertical-align: middle;\n",
              "    }\n",
              "\n",
              "    .dataframe tbody tr th {\n",
              "        vertical-align: top;\n",
              "    }\n",
              "\n",
              "    .dataframe thead th {\n",
              "        text-align: right;\n",
              "    }\n",
              "</style>\n",
              "<table border=\"1\" class=\"dataframe\">\n",
              "  <thead>\n",
              "    <tr style=\"text-align: right;\">\n",
              "      <th></th>\n",
              "      <th>ID</th>\n",
              "      <th>Customer_ID</th>\n",
              "      <th>Month</th>\n",
              "      <th>Age</th>\n",
              "      <th>SSN</th>\n",
              "      <th>Annual_Income</th>\n",
              "      <th>Monthly_Inhand_Salary</th>\n",
              "      <th>Num_Bank_Accounts</th>\n",
              "      <th>Num_Credit_Card</th>\n",
              "      <th>Interest_Rate</th>\n",
              "      <th>...</th>\n",
              "      <th>Delay_from_due_date</th>\n",
              "      <th>Num_of_Delayed_Payment</th>\n",
              "      <th>Changed_Credit_Limit</th>\n",
              "      <th>Num_Credit_Inquiries</th>\n",
              "      <th>Outstanding_Debt</th>\n",
              "      <th>Credit_Utilization_Ratio</th>\n",
              "      <th>Credit_History_Age</th>\n",
              "      <th>Total_EMI_per_month</th>\n",
              "      <th>Amount_invested_monthly</th>\n",
              "      <th>Monthly_Balance</th>\n",
              "    </tr>\n",
              "  </thead>\n",
              "  <tbody>\n",
              "    <tr>\n",
              "      <th>count</th>\n",
              "      <td>23851.000000</td>\n",
              "      <td>23851.000000</td>\n",
              "      <td>23851.000000</td>\n",
              "      <td>23851.000000</td>\n",
              "      <td>2.385100e+04</td>\n",
              "      <td>23851.000000</td>\n",
              "      <td>23851.000000</td>\n",
              "      <td>23851.000000</td>\n",
              "      <td>23851.000000</td>\n",
              "      <td>23851.000000</td>\n",
              "      <td>...</td>\n",
              "      <td>23851.000000</td>\n",
              "      <td>23851.000000</td>\n",
              "      <td>23851.000000</td>\n",
              "      <td>23851.000000</td>\n",
              "      <td>23851.000000</td>\n",
              "      <td>23851.000000</td>\n",
              "      <td>23851.000000</td>\n",
              "      <td>23851.000000</td>\n",
              "      <td>23850.000000</td>\n",
              "      <td>23850.000000</td>\n",
              "    </tr>\n",
              "    <tr>\n",
              "      <th>mean</th>\n",
              "      <td>23519.750157</td>\n",
              "      <td>26060.729529</td>\n",
              "      <td>4.499686</td>\n",
              "      <td>33.298059</td>\n",
              "      <td>4.967118e+08</td>\n",
              "      <td>51015.543633</td>\n",
              "      <td>4238.570014</td>\n",
              "      <td>5.382458</td>\n",
              "      <td>5.545386</td>\n",
              "      <td>14.448744</td>\n",
              "      <td>...</td>\n",
              "      <td>21.269171</td>\n",
              "      <td>13.338015</td>\n",
              "      <td>10.408458</td>\n",
              "      <td>5.822691</td>\n",
              "      <td>1417.498601</td>\n",
              "      <td>32.284295</td>\n",
              "      <td>221.149470</td>\n",
              "      <td>109.843821</td>\n",
              "      <td>55.618205</td>\n",
              "      <td>391.757555</td>\n",
              "    </tr>\n",
              "    <tr>\n",
              "      <th>std</th>\n",
              "      <td>10328.002412</td>\n",
              "      <td>14373.253371</td>\n",
              "      <td>2.291382</td>\n",
              "      <td>10.699321</td>\n",
              "      <td>2.930820e+08</td>\n",
              "      <td>38486.372931</td>\n",
              "      <td>3191.046511</td>\n",
              "      <td>2.621802</td>\n",
              "      <td>2.055515</td>\n",
              "      <td>8.795025</td>\n",
              "      <td>...</td>\n",
              "      <td>14.706929</td>\n",
              "      <td>6.243712</td>\n",
              "      <td>6.598037</td>\n",
              "      <td>3.921917</td>\n",
              "      <td>1167.191825</td>\n",
              "      <td>5.138086</td>\n",
              "      <td>98.637276</td>\n",
              "      <td>135.354176</td>\n",
              "      <td>39.211721</td>\n",
              "      <td>200.326358</td>\n",
              "    </tr>\n",
              "    <tr>\n",
              "      <th>min</th>\n",
              "      <td>5634.000000</td>\n",
              "      <td>1006.000000</td>\n",
              "      <td>1.000000</td>\n",
              "      <td>14.000000</td>\n",
              "      <td>6.304420e+05</td>\n",
              "      <td>7006.520000</td>\n",
              "      <td>333.596667</td>\n",
              "      <td>0.000000</td>\n",
              "      <td>0.000000</td>\n",
              "      <td>1.000000</td>\n",
              "      <td>...</td>\n",
              "      <td>0.000000</td>\n",
              "      <td>0.000000</td>\n",
              "      <td>0.500000</td>\n",
              "      <td>0.000000</td>\n",
              "      <td>1.480000</td>\n",
              "      <td>20.000000</td>\n",
              "      <td>1.000000</td>\n",
              "      <td>0.000000</td>\n",
              "      <td>0.000000</td>\n",
              "      <td>0.103402</td>\n",
              "    </tr>\n",
              "    <tr>\n",
              "      <th>25%</th>\n",
              "      <td>14576.500000</td>\n",
              "      <td>14085.000000</td>\n",
              "      <td>2.000000</td>\n",
              "      <td>25.000000</td>\n",
              "      <td>2.390797e+08</td>\n",
              "      <td>19569.915000</td>\n",
              "      <td>1653.192500</td>\n",
              "      <td>3.000000</td>\n",
              "      <td>4.000000</td>\n",
              "      <td>7.000000</td>\n",
              "      <td>...</td>\n",
              "      <td>10.000000</td>\n",
              "      <td>9.000000</td>\n",
              "      <td>5.365000</td>\n",
              "      <td>3.000000</td>\n",
              "      <td>551.180000</td>\n",
              "      <td>28.011157</td>\n",
              "      <td>147.000000</td>\n",
              "      <td>29.837981</td>\n",
              "      <td>27.898042</td>\n",
              "      <td>267.854488</td>\n",
              "    </tr>\n",
              "    <tr>\n",
              "      <th>50%</th>\n",
              "      <td>23519.000000</td>\n",
              "      <td>25679.000000</td>\n",
              "      <td>4.000000</td>\n",
              "      <td>33.000000</td>\n",
              "      <td>4.897835e+08</td>\n",
              "      <td>37788.300000</td>\n",
              "      <td>3143.796667</td>\n",
              "      <td>6.000000</td>\n",
              "      <td>6.000000</td>\n",
              "      <td>13.000000</td>\n",
              "      <td>...</td>\n",
              "      <td>18.000000</td>\n",
              "      <td>14.000000</td>\n",
              "      <td>9.280000</td>\n",
              "      <td>5.000000</td>\n",
              "      <td>1147.590000</td>\n",
              "      <td>32.307111</td>\n",
              "      <td>218.000000</td>\n",
              "      <td>66.676413</td>\n",
              "      <td>46.038344</td>\n",
              "      <td>334.121470</td>\n",
              "    </tr>\n",
              "    <tr>\n",
              "      <th>75%</th>\n",
              "      <td>32463.500000</td>\n",
              "      <td>38787.000000</td>\n",
              "      <td>6.000000</td>\n",
              "      <td>42.000000</td>\n",
              "      <td>7.516565e+08</td>\n",
              "      <td>72849.560000</td>\n",
              "      <td>6027.507500</td>\n",
              "      <td>7.000000</td>\n",
              "      <td>7.000000</td>\n",
              "      <td>20.000000</td>\n",
              "      <td>...</td>\n",
              "      <td>28.000000</td>\n",
              "      <td>18.000000</td>\n",
              "      <td>14.715000</td>\n",
              "      <td>9.000000</td>\n",
              "      <td>1925.480000</td>\n",
              "      <td>36.527886</td>\n",
              "      <td>302.000000</td>\n",
              "      <td>151.978850</td>\n",
              "      <td>72.105948</td>\n",
              "      <td>462.463464</td>\n",
              "    </tr>\n",
              "    <tr>\n",
              "      <th>max</th>\n",
              "      <td>41408.000000</td>\n",
              "      <td>50984.000000</td>\n",
              "      <td>8.000000</td>\n",
              "      <td>56.000000</td>\n",
              "      <td>9.999573e+08</td>\n",
              "      <td>179987.280000</td>\n",
              "      <td>14866.446667</td>\n",
              "      <td>10.000000</td>\n",
              "      <td>11.000000</td>\n",
              "      <td>34.000000</td>\n",
              "      <td>...</td>\n",
              "      <td>62.000000</td>\n",
              "      <td>25.000000</td>\n",
              "      <td>29.970000</td>\n",
              "      <td>17.000000</td>\n",
              "      <td>4998.070000</td>\n",
              "      <td>50.000000</td>\n",
              "      <td>404.000000</td>\n",
              "      <td>1705.000000</td>\n",
              "      <td>434.191089</td>\n",
              "      <td>1183.930696</td>\n",
              "    </tr>\n",
              "  </tbody>\n",
              "</table>\n",
              "<p>8 rows × 21 columns</p>\n",
              "</div>\n",
              "    <div class=\"colab-df-buttons\">\n",
              "\n",
              "  <div class=\"colab-df-container\">\n",
              "    <button class=\"colab-df-convert\" onclick=\"convertToInteractive('df-2406c4eb-87bd-450d-bfb5-e90133ca5607')\"\n",
              "            title=\"Convert this dataframe to an interactive table.\"\n",
              "            style=\"display:none;\">\n",
              "\n",
              "  <svg xmlns=\"http://www.w3.org/2000/svg\" height=\"24px\" viewBox=\"0 -960 960 960\">\n",
              "    <path d=\"M120-120v-720h720v720H120Zm60-500h600v-160H180v160Zm220 220h160v-160H400v160Zm0 220h160v-160H400v160ZM180-400h160v-160H180v160Zm440 0h160v-160H620v160ZM180-180h160v-160H180v160Zm440 0h160v-160H620v160Z\"/>\n",
              "  </svg>\n",
              "    </button>\n",
              "\n",
              "  <style>\n",
              "    .colab-df-container {\n",
              "      display:flex;\n",
              "      gap: 12px;\n",
              "    }\n",
              "\n",
              "    .colab-df-convert {\n",
              "      background-color: #E8F0FE;\n",
              "      border: none;\n",
              "      border-radius: 50%;\n",
              "      cursor: pointer;\n",
              "      display: none;\n",
              "      fill: #1967D2;\n",
              "      height: 32px;\n",
              "      padding: 0 0 0 0;\n",
              "      width: 32px;\n",
              "    }\n",
              "\n",
              "    .colab-df-convert:hover {\n",
              "      background-color: #E2EBFA;\n",
              "      box-shadow: 0px 1px 2px rgba(60, 64, 67, 0.3), 0px 1px 3px 1px rgba(60, 64, 67, 0.15);\n",
              "      fill: #174EA6;\n",
              "    }\n",
              "\n",
              "    .colab-df-buttons div {\n",
              "      margin-bottom: 4px;\n",
              "    }\n",
              "\n",
              "    [theme=dark] .colab-df-convert {\n",
              "      background-color: #3B4455;\n",
              "      fill: #D2E3FC;\n",
              "    }\n",
              "\n",
              "    [theme=dark] .colab-df-convert:hover {\n",
              "      background-color: #434B5C;\n",
              "      box-shadow: 0px 1px 3px 1px rgba(0, 0, 0, 0.15);\n",
              "      filter: drop-shadow(0px 1px 2px rgba(0, 0, 0, 0.3));\n",
              "      fill: #FFFFFF;\n",
              "    }\n",
              "  </style>\n",
              "\n",
              "    <script>\n",
              "      const buttonEl =\n",
              "        document.querySelector('#df-2406c4eb-87bd-450d-bfb5-e90133ca5607 button.colab-df-convert');\n",
              "      buttonEl.style.display =\n",
              "        google.colab.kernel.accessAllowed ? 'block' : 'none';\n",
              "\n",
              "      async function convertToInteractive(key) {\n",
              "        const element = document.querySelector('#df-2406c4eb-87bd-450d-bfb5-e90133ca5607');\n",
              "        const dataTable =\n",
              "          await google.colab.kernel.invokeFunction('convertToInteractive',\n",
              "                                                    [key], {});\n",
              "        if (!dataTable) return;\n",
              "\n",
              "        const docLinkHtml = 'Like what you see? Visit the ' +\n",
              "          '<a target=\"_blank\" href=https://colab.research.google.com/notebooks/data_table.ipynb>data table notebook</a>'\n",
              "          + ' to learn more about interactive tables.';\n",
              "        element.innerHTML = '';\n",
              "        dataTable['output_type'] = 'display_data';\n",
              "        await google.colab.output.renderOutput(dataTable, element);\n",
              "        const docLink = document.createElement('div');\n",
              "        docLink.innerHTML = docLinkHtml;\n",
              "        element.appendChild(docLink);\n",
              "      }\n",
              "    </script>\n",
              "  </div>\n",
              "\n",
              "\n",
              "<div id=\"df-5a77f0c7-cad3-492d-a8ab-03a95da7dd1c\">\n",
              "  <button class=\"colab-df-quickchart\" onclick=\"quickchart('df-5a77f0c7-cad3-492d-a8ab-03a95da7dd1c')\"\n",
              "            title=\"Suggest charts\"\n",
              "            style=\"display:none;\">\n",
              "\n",
              "<svg xmlns=\"http://www.w3.org/2000/svg\" height=\"24px\"viewBox=\"0 0 24 24\"\n",
              "     width=\"24px\">\n",
              "    <g>\n",
              "        <path d=\"M19 3H5c-1.1 0-2 .9-2 2v14c0 1.1.9 2 2 2h14c1.1 0 2-.9 2-2V5c0-1.1-.9-2-2-2zM9 17H7v-7h2v7zm4 0h-2V7h2v10zm4 0h-2v-4h2v4z\"/>\n",
              "    </g>\n",
              "</svg>\n",
              "  </button>\n",
              "\n",
              "<style>\n",
              "  .colab-df-quickchart {\n",
              "      --bg-color: #E8F0FE;\n",
              "      --fill-color: #1967D2;\n",
              "      --hover-bg-color: #E2EBFA;\n",
              "      --hover-fill-color: #174EA6;\n",
              "      --disabled-fill-color: #AAA;\n",
              "      --disabled-bg-color: #DDD;\n",
              "  }\n",
              "\n",
              "  [theme=dark] .colab-df-quickchart {\n",
              "      --bg-color: #3B4455;\n",
              "      --fill-color: #D2E3FC;\n",
              "      --hover-bg-color: #434B5C;\n",
              "      --hover-fill-color: #FFFFFF;\n",
              "      --disabled-bg-color: #3B4455;\n",
              "      --disabled-fill-color: #666;\n",
              "  }\n",
              "\n",
              "  .colab-df-quickchart {\n",
              "    background-color: var(--bg-color);\n",
              "    border: none;\n",
              "    border-radius: 50%;\n",
              "    cursor: pointer;\n",
              "    display: none;\n",
              "    fill: var(--fill-color);\n",
              "    height: 32px;\n",
              "    padding: 0;\n",
              "    width: 32px;\n",
              "  }\n",
              "\n",
              "  .colab-df-quickchart:hover {\n",
              "    background-color: var(--hover-bg-color);\n",
              "    box-shadow: 0 1px 2px rgba(60, 64, 67, 0.3), 0 1px 3px 1px rgba(60, 64, 67, 0.15);\n",
              "    fill: var(--button-hover-fill-color);\n",
              "  }\n",
              "\n",
              "  .colab-df-quickchart-complete:disabled,\n",
              "  .colab-df-quickchart-complete:disabled:hover {\n",
              "    background-color: var(--disabled-bg-color);\n",
              "    fill: var(--disabled-fill-color);\n",
              "    box-shadow: none;\n",
              "  }\n",
              "\n",
              "  .colab-df-spinner {\n",
              "    border: 2px solid var(--fill-color);\n",
              "    border-color: transparent;\n",
              "    border-bottom-color: var(--fill-color);\n",
              "    animation:\n",
              "      spin 1s steps(1) infinite;\n",
              "  }\n",
              "\n",
              "  @keyframes spin {\n",
              "    0% {\n",
              "      border-color: transparent;\n",
              "      border-bottom-color: var(--fill-color);\n",
              "      border-left-color: var(--fill-color);\n",
              "    }\n",
              "    20% {\n",
              "      border-color: transparent;\n",
              "      border-left-color: var(--fill-color);\n",
              "      border-top-color: var(--fill-color);\n",
              "    }\n",
              "    30% {\n",
              "      border-color: transparent;\n",
              "      border-left-color: var(--fill-color);\n",
              "      border-top-color: var(--fill-color);\n",
              "      border-right-color: var(--fill-color);\n",
              "    }\n",
              "    40% {\n",
              "      border-color: transparent;\n",
              "      border-right-color: var(--fill-color);\n",
              "      border-top-color: var(--fill-color);\n",
              "    }\n",
              "    60% {\n",
              "      border-color: transparent;\n",
              "      border-right-color: var(--fill-color);\n",
              "    }\n",
              "    80% {\n",
              "      border-color: transparent;\n",
              "      border-right-color: var(--fill-color);\n",
              "      border-bottom-color: var(--fill-color);\n",
              "    }\n",
              "    90% {\n",
              "      border-color: transparent;\n",
              "      border-bottom-color: var(--fill-color);\n",
              "    }\n",
              "  }\n",
              "</style>\n",
              "\n",
              "  <script>\n",
              "    async function quickchart(key) {\n",
              "      const quickchartButtonEl =\n",
              "        document.querySelector('#' + key + ' button');\n",
              "      quickchartButtonEl.disabled = true;  // To prevent multiple clicks.\n",
              "      quickchartButtonEl.classList.add('colab-df-spinner');\n",
              "      try {\n",
              "        const charts = await google.colab.kernel.invokeFunction(\n",
              "            'suggestCharts', [key], {});\n",
              "      } catch (error) {\n",
              "        console.error('Error during call to suggestCharts:', error);\n",
              "      }\n",
              "      quickchartButtonEl.classList.remove('colab-df-spinner');\n",
              "      quickchartButtonEl.classList.add('colab-df-quickchart-complete');\n",
              "    }\n",
              "    (() => {\n",
              "      let quickchartButtonEl =\n",
              "        document.querySelector('#df-5a77f0c7-cad3-492d-a8ab-03a95da7dd1c button');\n",
              "      quickchartButtonEl.style.display =\n",
              "        google.colab.kernel.accessAllowed ? 'block' : 'none';\n",
              "    })();\n",
              "  </script>\n",
              "</div>\n",
              "\n",
              "    </div>\n",
              "  </div>\n"
            ],
            "application/vnd.google.colaboratory.intrinsic+json": {
              "type": "dataframe"
            }
          },
          "metadata": {},
          "execution_count": 17
        }
      ],
      "source": [
        "df.describe()\n"
      ]
    },
    {
      "cell_type": "code",
      "execution_count": 18,
      "id": "48769a89",
      "metadata": {
        "colab": {
          "base_uri": "https://localhost:8080/"
        },
        "id": "48769a89",
        "outputId": "58350788-28c2-4ccc-c829-ba367609b9d8"
      },
      "outputs": [
        {
          "output_type": "execute_result",
          "data": {
            "text/plain": [
              "Index(['ID', 'Customer_ID', 'Month', 'Name', 'Age', 'SSN', 'Occupation',\n",
              "       'Annual_Income', 'Monthly_Inhand_Salary', 'Num_Bank_Accounts',\n",
              "       'Num_Credit_Card', 'Interest_Rate', 'Num_of_Loan', 'Type_of_Loan',\n",
              "       'Delay_from_due_date', 'Num_of_Delayed_Payment', 'Changed_Credit_Limit',\n",
              "       'Num_Credit_Inquiries', 'Credit_Mix', 'Outstanding_Debt',\n",
              "       'Credit_Utilization_Ratio', 'Credit_History_Age',\n",
              "       'Payment_of_Min_Amount', 'Total_EMI_per_month',\n",
              "       'Amount_invested_monthly', 'Payment_Behaviour', 'Monthly_Balance',\n",
              "       'Credit_Score'],\n",
              "      dtype='object')"
            ]
          },
          "metadata": {},
          "execution_count": 18
        }
      ],
      "source": [
        "df.columns"
      ]
    },
    {
      "cell_type": "code",
      "execution_count": 19,
      "id": "e466e01e",
      "metadata": {
        "id": "e466e01e"
      },
      "outputs": [],
      "source": [
        " df[\"Disposable_Income\"]=df['Monthly_Inhand_Salary']-df['Total_EMI_per_month']"
      ]
    },
    {
      "cell_type": "code",
      "execution_count": 20,
      "id": "d26169d0",
      "metadata": {
        "colab": {
          "base_uri": "https://localhost:8080/",
          "height": 428
        },
        "id": "d26169d0",
        "outputId": "c198c4f8-55ed-4000-96c8-655e6b0dd12e"
      },
      "outputs": [
        {
          "output_type": "execute_result",
          "data": {
            "text/plain": [
              "<Axes: ylabel='Annual_Income'>"
            ]
          },
          "metadata": {},
          "execution_count": 20
        },
        {
          "output_type": "display_data",
          "data": {
            "text/plain": [
              "<Figure size 640x480 with 1 Axes>"
            ],
            "image/png": "[encoded data removed]"
          },
          "metadata": {}
        }
      ],
      "source": [
        "sns.boxplot(df['Annual_Income'])"
      ]
    },
    {
      "cell_type": "code",
      "execution_count": 21,
      "id": "3e717b3f",
      "metadata": {
        "id": "3e717b3f"
      },
      "outputs": [],
      "source": [
        "Q1=df['Annual_Income'].quantile(0.25)\n",
        "Q3=df['Annual_Income'].quantile(0.75)\n",
        "IQR=Q3-Q1\n",
        "\n",
        "\n",
        "lowerbound=Q1-1.5*IQR\n",
        "upperbound=Q3+1.5*IQR\n",
        "outliers=df[(df['Annual_Income']<lowerbound)|(df['Annual_Income']>upperbound)]"
      ]
    },
    {
      "cell_type": "code",
      "execution_count": 22,
      "id": "06b97950",
      "metadata": {
        "id": "06b97950"
      },
      "outputs": [],
      "source": [
        "df=df[~((df['Annual_Income']<lowerbound)|(df['Annual_Income']>upperbound))]"
      ]
    },
    {
      "cell_type": "code",
      "execution_count": 23,
      "id": "dca03e95",
      "metadata": {
        "colab": {
          "base_uri": "https://localhost:8080/"
        },
        "id": "dca03e95",
        "outputId": "69154d4f-fcb9-4671-ba70-14ddb22a0fc7"
      },
      "outputs": [
        {
          "output_type": "stream",
          "name": "stdout",
          "text": [
            "Name\n",
            "Occupation\n",
            "Type_of_Loan\n",
            "Credit_Mix\n",
            "Payment_of_Min_Amount\n",
            "Payment_Behaviour\n",
            "Credit_Score\n"
          ]
        }
      ],
      "source": [
        "for col in df.columns:\n",
        "    if df[col].dtype=='object':\n",
        "        print(col)"
      ]
    },
    {
      "cell_type": "code",
      "execution_count": 24,
      "id": "8d97ce4e",
      "metadata": {
        "colab": {
          "base_uri": "https://localhost:8080/",
          "height": 864
        },
        "id": "8d97ce4e",
        "outputId": "df5d0868-24af-4b10-a1ce-2065a93ad837"
      },
      "outputs": [
        {
          "output_type": "execute_result",
          "data": {
            "text/plain": [
              "<Axes: xlabel='Occupation', ylabel='count'>"
            ]
          },
          "metadata": {},
          "execution_count": 24
        },
        {
          "output_type": "display_data",
          "data": {
            "text/plain": [
              "<Figure size 1600x1200 with 1 Axes>"
            ],
            "image/png": "[encoded data removed]"
          },
          "metadata": {}
        }
      ],
      "source": [
        "plt.figure(figsize=(16,12))\n",
        "sns.countplot(x=df['Occupation'])"
      ]
    },
    {
      "cell_type": "code",
      "execution_count": 25,
      "id": "509d154d",
      "metadata": {
        "colab": {
          "base_uri": "https://localhost:8080/"
        },
        "id": "509d154d",
        "outputId": "0567a155-ccd5-49b1-937e-e636bbdb4fb0"
      },
      "outputs": [
        {
          "output_type": "execute_result",
          "data": {
            "text/plain": [
              "array(['Auto Loan, Credit-Builder Loan, Personal Loan, and Home Equity Loan',\n",
              "       'Credit-Builder Loan', 'Auto Loan, Auto Loan, and Not Specified',\n",
              "       ...,\n",
              "       'Auto Loan, Home Equity Loan, Not Specified, Auto Loan, Credit-Builder Loan, and Debt Consolidation Loan',\n",
              "       'Personal Loan, Home Equity Loan, Home Equity Loan, and Personal Loan',\n",
              "       'Personal Loan, Credit-Builder Loan, Auto Loan, Home Equity Loan, Personal Loan, and Auto Loan'],\n",
              "      dtype=object)"
            ]
          },
          "metadata": {},
          "execution_count": 25
        }
      ],
      "source": [
        "df['Type_of_Loan'].unique()"
      ]
    },
    {
      "cell_type": "code",
      "execution_count": 26,
      "id": "d9a4ae82",
      "metadata": {
        "colab": {
          "base_uri": "https://localhost:8080/",
          "height": 858
        },
        "id": "d9a4ae82",
        "outputId": "9acd2e45-746a-4e74-8667-3f78ba2cfc6c"
      },
      "outputs": [
        {
          "output_type": "execute_result",
          "data": {
            "text/plain": [
              "<Axes: xlabel='Credit_Mix', ylabel='count'>"
            ]
          },
          "metadata": {},
          "execution_count": 26
        },
        {
          "output_type": "display_data",
          "data": {
            "text/plain": [
              "<Figure size 1600x1200 with 1 Axes>"
            ],
            "image/png": "[encoded data removed]"
          },
          "metadata": {}
        }
      ],
      "source": [
        "plt.figure(figsize=(16,12))\n",
        "sns.countplot(x=df['Credit_Mix'])"
      ]
    },
    {
      "cell_type": "code",
      "execution_count": 27,
      "id": "c5ab7052",
      "metadata": {
        "colab": {
          "base_uri": "https://localhost:8080/",
          "height": 858
        },
        "id": "c5ab7052",
        "outputId": "caa07502-f822-4dcc-df63-96d7ea1c9c08"
      },
      "outputs": [
        {
          "output_type": "execute_result",
          "data": {
            "text/plain": [
              "<Axes: xlabel='Payment_of_Min_Amount', ylabel='count'>"
            ]
          },
          "metadata": {},
          "execution_count": 27
        },
        {
          "output_type": "display_data",
          "data": {
            "text/plain": [
              "<Figure size 1600x1200 with 1 Axes>"
            ],
            "image/png": "[encoded data removed]"
          },
          "metadata": {}
        }
      ],
      "source": [
        "plt.figure(figsize=(16,12))\n",
        "sns.countplot(x=df['Payment_of_Min_Amount'])"
      ]
    },
    {
      "cell_type": "code",
      "execution_count": 28,
      "id": "2b4a1c1c",
      "metadata": {
        "colab": {
          "base_uri": "https://localhost:8080/",
          "height": 852
        },
        "id": "2b4a1c1c",
        "outputId": "bb7e7386-0ed7-4f12-94fc-7c55f086adfe"
      },
      "outputs": [
        {
          "output_type": "execute_result",
          "data": {
            "text/plain": [
              "<Axes: xlabel='Payment_Behaviour', ylabel='count'>"
            ]
          },
          "metadata": {},
          "execution_count": 28
        },
        {
          "output_type": "display_data",
          "data": {
            "text/plain": [
              "<Figure size 1600x1200 with 1 Axes>"
            ],
            "image/png": "[encoded data removed]"
          },
          "metadata": {}
        }
      ],
      "source": [
        "plt.figure(figsize=(16,12))\n",
        "sns.countplot(x=df['Payment_Behaviour'])"
      ]
    },
    {
      "cell_type": "code",
      "execution_count": 29,
      "id": "e4cc51d2",
      "metadata": {
        "colab": {
          "base_uri": "https://localhost:8080/",
          "height": 858
        },
        "id": "e4cc51d2",
        "outputId": "e15e4b2d-d3d2-4cc6-82f0-ae9b481c7b5f"
      },
      "outputs": [
        {
          "output_type": "execute_result",
          "data": {
            "text/plain": [
              "<Axes: xlabel='Credit_Score', ylabel='count'>"
            ]
          },
          "metadata": {},
          "execution_count": 29
        },
        {
          "output_type": "display_data",
          "data": {
            "text/plain": [
              "<Figure size 1600x1200 with 1 Axes>"
            ],
            "image/png": "[encoded data removed]"
          },
          "metadata": {}
        }
      ],
      "source": [
        "plt.figure(figsize=(16,12))\n",
        "sns.countplot(x=df['Credit_Score'])"
      ]
    },
    {
      "cell_type": "code",
      "execution_count": 30,
      "id": "80e0d75c",
      "metadata": {
        "colab": {
          "base_uri": "https://localhost:8080/"
        },
        "id": "80e0d75c",
        "outputId": "0b1c22c3-f5cb-4911-f3c5-289b66037670"
      },
      "outputs": [
        {
          "output_type": "stream",
          "name": "stdout",
          "text": [
            "<class 'pandas.core.frame.DataFrame'>\n",
            "Index: 23443 entries, 0 to 23850\n",
            "Data columns (total 29 columns):\n",
            " #   Column                    Non-Null Count  Dtype  \n",
            "---  ------                    --------------  -----  \n",
            " 0   ID                        23443 non-null  int64  \n",
            " 1   Customer_ID               23443 non-null  int64  \n",
            " 2   Month                     23443 non-null  int64  \n",
            " 3   Name                      23443 non-null  object \n",
            " 4   Age                       23443 non-null  float64\n",
            " 5   SSN                       23443 non-null  float64\n",
            " 6   Occupation                23443 non-null  object \n",
            " 7   Annual_Income             23443 non-null  float64\n",
            " 8   Monthly_Inhand_Salary     23443 non-null  float64\n",
            " 9   Num_Bank_Accounts         23443 non-null  float64\n",
            " 10  Num_Credit_Card           23443 non-null  float64\n",
            " 11  Interest_Rate             23443 non-null  float64\n",
            " 12  Num_of_Loan               23443 non-null  float64\n",
            " 13  Type_of_Loan              23443 non-null  object \n",
            " 14  Delay_from_due_date       23443 non-null  float64\n",
            " 15  Num_of_Delayed_Payment    23443 non-null  float64\n",
            " 16  Changed_Credit_Limit      23443 non-null  float64\n",
            " 17  Num_Credit_Inquiries      23443 non-null  float64\n",
            " 18  Credit_Mix                23443 non-null  object \n",
            " 19  Outstanding_Debt          23443 non-null  float64\n",
            " 20  Credit_Utilization_Ratio  23443 non-null  float64\n",
            " 21  Credit_History_Age        23443 non-null  float64\n",
            " 22  Payment_of_Min_Amount     23443 non-null  object \n",
            " 23  Total_EMI_per_month       23443 non-null  float64\n",
            " 24  Amount_invested_monthly   23442 non-null  float64\n",
            " 25  Payment_Behaviour         23442 non-null  object \n",
            " 26  Monthly_Balance           23442 non-null  float64\n",
            " 27  Credit_Score              23442 non-null  object \n",
            " 28  Disposable_Income         23443 non-null  float64\n",
            "dtypes: float64(19), int64(3), object(7)\n",
            "memory usage: 5.4+ MB\n"
          ]
        }
      ],
      "source": [
        "df.info()"
      ]
    },
    {
      "cell_type": "code",
      "execution_count": 31,
      "id": "2ab08f9d",
      "metadata": {
        "colab": {
          "base_uri": "https://localhost:8080/",
          "height": 467
        },
        "id": "2ab08f9d",
        "outputId": "487a0029-56c4-41ae-c058-11ef87d126de"
      },
      "outputs": [
        {
          "output_type": "execute_result",
          "data": {
            "text/plain": [
              "<Axes: xlabel='Annual_Income', ylabel='Count'>"
            ]
          },
          "metadata": {},
          "execution_count": 31
        },
        {
          "output_type": "display_data",
          "data": {
            "text/plain": [
              "<Figure size 640x480 with 1 Axes>"
            ],
            "image/png": "[encoded data removed]"
          },
          "metadata": {}
        }
      ],
      "source": [
        "sns.histplot(df['Annual_Income'],kde=True)"
      ]
    },
    {
      "cell_type": "code",
      "execution_count": 32,
      "id": "813de308",
      "metadata": {
        "id": "813de308"
      },
      "outputs": [],
      "source": [
        "from sklearn.model_selection import train_test_split"
      ]
    },
    {
      "cell_type": "code",
      "execution_count": 33,
      "id": "b3d32081",
      "metadata": {
        "id": "b3d32081"
      },
      "outputs": [],
      "source": [
        "X=df.drop('Credit_Score',axis=1)"
      ]
    },
    {
      "cell_type": "code",
      "execution_count": 34,
      "id": "62681456",
      "metadata": {
        "id": "62681456"
      },
      "outputs": [],
      "source": [
        "y=df['Credit_Score']"
      ]
    },
    {
      "cell_type": "code",
      "execution_count": 35,
      "id": "29539a20",
      "metadata": {
        "id": "29539a20"
      },
      "outputs": [],
      "source": [
        "X_train, X_test, y_train, y_test = train_test_split(X, y, test_size=0.2, random_state=42)\n"
      ]
    },
    {
      "cell_type": "code",
      "execution_count": 38,
      "id": "448f2ad1",
      "metadata": {
        "colab": {
          "base_uri": "https://localhost:8080/"
        },
        "id": "448f2ad1",
        "outputId": "14509fd4-6883-428a-a9b9-3afdae4db31b"
      },
      "outputs": [
        {
          "output_type": "execute_result",
          "data": {
            "text/plain": [
              "(18754, 28)"
            ]
          },
          "metadata": {},
          "execution_count": 38
        }
      ],
      "source": [
        "X_train.shape"
      ]
    },
    {
      "cell_type": "code",
      "execution_count": 37,
      "id": "166b5e79",
      "metadata": {
        "colab": {
          "base_uri": "https://localhost:8080/"
        },
        "id": "166b5e79",
        "outputId": "682ae113-0245-4aae-e9ae-e99e46d8a14c"
      },
      "outputs": [
        {
          "output_type": "execute_result",
          "data": {
            "text/plain": [
              "(18754,)"
            ]
          },
          "metadata": {},
          "execution_count": 37
        }
      ],
      "source": [
        "y_train.shape"
      ]
    },
    {
      "cell_type": "code",
      "execution_count": null,
      "id": "d720ae1b",
      "metadata": {
        "id": "d720ae1b"
      },
      "outputs": [],
      "source": []
    }
  ],
  "metadata": {
    "kernelspec": {
      "display_name": "Python 3 (ipykernel)",
      "language": "python",
      "name": "python3"
    },
    "language_info": {
      "codemirror_mode": {
        "name": "ipython",
        "version": 3
      },
      "file_extension": ".py",
      "mimetype": "text/x-python",
      "name": "python",
      "nbconvert_exporter": "python",
      "pygments_lexer": "ipython3",
      "version": "3.10.9"
    },
    "colab": {
      "provenance": []
    }
  },
  "nbformat": 4,
  "nbformat_minor": 5
}